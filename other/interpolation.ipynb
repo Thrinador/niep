{
 "cells": [
  {
   "cell_type": "code",
   "execution_count": 14,
   "id": "77ef2693-bcc9-40d7-ac68-bd8b955e92e4",
   "metadata": {},
   "outputs": [],
   "source": [
    "import scipy\n",
    "import numpy as np\n",
    "import sympy as sp\n",
    "from fractions import Fraction as f\n",
    "from math import comb\n",
    "\n",
    "def interpolate_points(points, degree, num_variables=2):\n",
    "    combinations = comb(degree + num_variables, num_variables)\n",
    "    s = sp.symbols('a_:'+str(combinations))\n",
    "    X = sp.symbols('x_:'+str(num_variables))\n",
    "    poly = 0\n",
    "    vec = []\n",
    "    for i in range(combinations):\n",
    "        poly_row = s[i]\n",
    "        for j in range(len(X)):\n",
    "            poly_row *= X[j]**(i%(num_variables**j)) # This isn't quite right.\n",
    "        poly += poly_row\n",
    "        vec.append(poly_row)\n",
    "\n",
    "    vec = sp.Matrix([vec])\n",
    "    matrix = []    \n",
    "    for i in range(0,combinations):\n",
    "        row = []\n",
    "        for symbol in s:\n",
    "            coeff = poly.subs([(X[0],points[i][0]), (X[1],points[i][1])]).coeff(symbol)\n",
    "            row.append(coeff)\n",
    "        matrix.append(row)\n",
    "    \n",
    "    M = sp.Matrix(matrix)\n",
    "    \n",
    "    det = M.det()\n",
    "    print(det)\n",
    "    \n",
    "    det_list = []\n",
    "    \n",
    "    for i in range(0, combinations):\n",
    "        M_temp = M.row_insert(i, vec)\n",
    "        M_temp.row_del(i+1)\n",
    "        det_list.append(M_temp.det() / det)\n",
    "\n",
    "    points_out = [i[2] for i in points]\n",
    "    \n",
    "    return np.dot(det_list, points_out[:len(det_list)])\n",
    "\n",
    "\n",
    "\n",
    "\n",
    "\n",
    "def interpolate_points_2_var(points, degree):\n",
    "    s = sp.symbols('a_:'+str(comb(degree + 2, 2)))\n",
    "    x = sp.Symbol('x')\n",
    "    y = sp.Symbol('y')\n",
    "    poly = 0\n",
    "    vec = []\n",
    "    count = 0\n",
    "    for i in range(degree + 1):\n",
    "        for j in range(degree + 1):\n",
    "            if i + j <= degree:\n",
    "                poly += s[count] * x**i * y**j\n",
    "                count += 1\n",
    "                vec.append(x**i * y**j)\n",
    "    vec = sp.Matrix([vec])\n",
    "    matrix = []    \n",
    "    for i in range(0,comb(degree + 2, 2)):\n",
    "        row = []\n",
    "        for symbol in s:\n",
    "            coeff = poly.subs([(x,points[i][0]), (y,points[i][1])]).coeff(symbol)\n",
    "            row.append(coeff)\n",
    "        matrix.append(row)\n",
    "    \n",
    "    M = sp.Matrix(matrix)\n",
    "    \n",
    "    det = M.det()\n",
    "    print(det)\n",
    "    \n",
    "    det_list = []\n",
    "    \n",
    "    for i in range(0, comb(degree + 2, 2)):\n",
    "        M_temp = M.row_insert(i, vec)\n",
    "        M_temp.row_del(i+1)\n",
    "        det_list.append(M_temp.det() / det)\n",
    "\n",
    "    points_out = [i[2] for i in points]\n",
    "    \n",
    "    return np.dot(det_list, points_out[:len(det_list)])\n"
   ]
  },
  {
   "cell_type": "code",
   "execution_count": 16,
   "id": "aaf88cf3-eb2a-4574-89bb-17a6da4bb5f8",
   "metadata": {},
   "outputs": [
    {
     "name": "stdout",
     "output_type": "stream",
     "text": [
      "43046721/1048576\n"
     ]
    }
   ],
   "source": [
    "points = [(f(0,1),f(0,1), f(0,1)), (f(1,1),f(0,1), f(-1,4)), (f(2,1),f(0,1), f(-2,1)), (f(1,1),f(3,8), f(1,16)), \n",
    "          (f(2,1),f(3,2), f(1,2)), (f(4,1),f(6,1), f(4,1)), (f(3,1),f(3,1), f(1,1)), (f(3,1),f(27,8), f(27,16)), \n",
    "          (f(3,2), f(0,1), f(-27,32)), (f(5,2), f(3,2), f(-1,2))]\n",
    "\n",
    "\n",
    "p = interpolate_points_2_var(points, 3)\n"
   ]
  },
  {
   "cell_type": "code",
   "execution_count": 15,
   "id": "c2648e8c-466a-4e2d-80e3-e1b801ac57a0",
   "metadata": {},
   "outputs": [
    {
     "name": "stdout",
     "output_type": "stream",
     "text": [
      "0\n"
     ]
    }
   ],
   "source": [
    "points = [(f(0,1),f(0,1), f(0,1)), (f(1,1),f(0,1), f(-1,4)), (f(2,1),f(0,1), f(-2,1)), (f(1,1),f(3,8), f(1,16)), \n",
    "          (f(2,1),f(3,2), f(1,2)), (f(4,1),f(6,1), f(4,1)), (f(3,1),f(3,1), f(1,1)), (f(3,1),f(27,8), f(27,16)), \n",
    "          (f(3,2), f(0,1), f(-27,32)), (f(5,2), f(3,2), f(-1,2)), (f(0,1),f(-1,1),f(0,1)), (f(0,1),f(-2,1),f(0,1)), \n",
    "          (f(1,1), f(-1,1), f(-1,1)), (f(3,2), f(-1,2), f(-3/2)), (f(1,2), f(-1,2), f(-9,32))]\n",
    "\n",
    "\n",
    "p = interpolate_points(points, 4)"
   ]
  },
  {
   "cell_type": "code",
   "execution_count": 198,
   "id": "de33ba80-f922-4fb3-a5e1-c9457a698038",
   "metadata": {},
   "outputs": [
    {
     "data": {
      "text/latex": [
       "$\\displaystyle - \\frac{3639 x^{4}}{223520} + \\frac{776887 x^{3} y}{670560} - \\frac{79009 x^{3}}{447040} - \\frac{480019 x^{2} y^{2}}{251460} - \\frac{376125 x^{2} y}{89408} - \\frac{47307 x^{2}}{447040} + \\frac{132163 x y^{3}}{125730} + \\frac{408829 x y^{2}}{83820} + \\frac{1533073 x y}{268224} + \\frac{10917 x}{223520} - \\frac{2327 y^{4}}{12573} - \\frac{240329 y^{3}}{167640} - \\frac{1511401 y^{2}}{502920} - \\frac{49083 y}{27940}$"
      ],
      "text/plain": [
       "-3639*x**4/223520 + 776887*x**3*y/670560 - 79009*x**3/447040 - 480019*x**2*y**2/251460 - 376125*x**2*y/89408 - 47307*x**2/447040 + 132163*x*y**3/125730 + 408829*x*y**2/83820 + 1533073*x*y/268224 + 10917*x/223520 - 2327*y**4/12573 - 240329*y**3/167640 - 1511401*y**2/502920 - 49083*y/27940"
      ]
     },
     "execution_count": 198,
     "metadata": {},
     "output_type": "execute_result"
    }
   ],
   "source": [
    "p"
   ]
  },
  {
   "cell_type": "code",
   "execution_count": 175,
   "id": "5385a5ce-d2e9-43d7-9ec8-92175b62ca0d",
   "metadata": {
    "editable": true,
    "slideshow": {
     "slide_type": ""
    },
    "tags": []
   },
   "outputs": [
    {
     "name": "stdout",
     "output_type": "stream",
     "text": [
      "-1/2\n",
      "-1/2\n",
      "5/2\n",
      "5/2\n",
      "-1/32\n",
      "1/32\n",
      "1/128\n",
      "1/128\n",
      "1/2\n",
      "1/2\n"
     ]
    }
   ],
   "source": [
    "test_points = [(f(5,2), f(3,2), f(-1,2)), (f(7,2), f(9,2), f(5,2)), (f(1,2), f(0,1), f(1,32)), \n",
    "          (f(1,2), f(3,32), f(1,128)), (f(2,1), f(3,2), f(1,2))]\n",
    "for point in test_points:\n",
    "    print(p.subs([(x,point[0]), (y, point[1])]))\n",
    "    print(point[2])"
   ]
  },
  {
   "cell_type": "code",
   "execution_count": 182,
   "id": "fe25c7a6-c038-4dd6-8f2e-73cdceae5650",
   "metadata": {},
   "outputs": [
    {
     "name": "stdout",
     "output_type": "stream",
     "text": [
      "27/512\n",
      "-9*x**3/512 + 27*x**2*y/512 + 81*x**2/1024 - 27*x*y**2/512 - 81*x*y/512 - 117*x/1024 + 9*y**3/512 + 81*y**2/1024 + 117*y/1024 + 27/512\n",
      "-27*x**2*y/128 + 81*x*y**2/256 + 297*x*y/512 - 27*y**3/256 - 189*y**2/512 - 81*y/256\n",
      "-9*x**2*y/256 + 9*x*y**2/128 + 27*x*y/256 - 27*y**3/512 - 135*y**2/1024 - 81*y/1024\n",
      "27*x*y**2/256 + 27*x*y/512\n",
      "27*x**3/512 - 27*x**2*y/512 - 135*x**2/1024 + 27*x*y**2/512 + 27*x*y/256 + 81*x/1024\n",
      "27*x**3/256 - 81*x**2*y/256 - 189*x**2/512 + 27*x*y**2/128 + 297*x*y/512 + 81*x/256\n",
      "-9*x**2*y/128 - 9*x*y**2/128\n",
      "9*x**2*y/64 - 9*x*y**2/32 - 27*x*y/64 + 9*y**3/64 + 27*y**2/64 + 9*y/32\n",
      "-9*x**3/64 + 9*x**2*y/32 + 27*x**2/64 - 9*x*y**2/64 - 27*x*y/64 - 9*x/32\n",
      "27*x**2*y/128 - 27*x*y**2/128 - 27*x*y/64\n"
     ]
    }
   ],
   "source": [
    "points = [(f(0,1),f(0,1), f(0,1)), (f(0,1), f(-1,1), f(0,1)), (f(0,1), f(-2,1), f(0,1)), (f(1,1),f(-1,1), f(-1,1)), (f(2,1),f(0,1), f(-2,1)), \n",
    "          (f(1,1),f(0,1), f(-1,4)), (f(3,2),f(-1,2), f(-3,2)), (f(0,1),f(-3,2), f(0,1)), (f(3,2),f(0,1), f(-27,32)), (f(1,2), f(-1,2), f(9,32))]\n",
    "\n",
    "p_2 = interpolate_points(points, 3)\n"
   ]
  },
  {
   "cell_type": "code",
   "execution_count": 191,
   "id": "685bff87-619e-4b59-a197-23275d9ced5f",
   "metadata": {},
   "outputs": [
    {
     "data": {
      "text/latex": [
       "$\\displaystyle - \\frac{x^{3}}{4} + \\frac{17 x^{2} y}{8} - \\frac{15 x y^{2}}{8} - \\frac{13 x y}{4}$"
      ],
      "text/plain": [
       "-x**3/4 + 17*x**2*y/8 - 15*x*y**2/8 - 13*x*y/4"
      ]
     },
     "execution_count": 191,
     "metadata": {},
     "output_type": "execute_result"
    }
   ],
   "source": [
    "p_2"
   ]
  },
  {
   "cell_type": "code",
   "execution_count": 190,
   "id": "45fd08f1-b370-4e78-bac1-92d67a851ab4",
   "metadata": {
    "editable": true,
    "slideshow": {
     "slide_type": ""
    },
    "tags": []
   },
   "outputs": [
    {
     "data": {
      "text/latex": [
       "$\\displaystyle 1$"
      ],
      "text/plain": [
       "1"
      ]
     },
     "execution_count": 190,
     "metadata": {},
     "output_type": "execute_result"
    }
   ],
   "source": [
    "p.subs([(x,f(3,1)), (y, f(3,1))])"
   ]
  },
  {
   "cell_type": "code",
   "execution_count": null,
   "id": "28a44d77-ab11-4ab3-9638-0c4820162db5",
   "metadata": {
    "editable": true,
    "slideshow": {
     "slide_type": ""
    },
    "tags": []
   },
   "outputs": [],
   "source": []
  }
 ],
 "metadata": {
  "kernelspec": {
   "display_name": "Python 3 (ipykernel)",
   "language": "python",
   "name": "python3"
  },
  "language_info": {
   "codemirror_mode": {
    "name": "ipython",
    "version": 3
   },
   "file_extension": ".py",
   "mimetype": "text/x-python",
   "name": "python",
   "nbconvert_exporter": "python",
   "pygments_lexer": "ipython3",
   "version": "3.10.12"
  }
 },
 "nbformat": 4,
 "nbformat_minor": 5
}
